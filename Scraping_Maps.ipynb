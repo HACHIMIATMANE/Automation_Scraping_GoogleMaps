{
 "cells": [
  {
   "cell_type": "code",
   "execution_count": 2,
   "metadata": {},
   "outputs": [],
   "source": [
    "import pandas as pd\n",
    "import requests\n",
    "import cloudscraper\n",
    "from bs4 import BeautifulSoup\n"
   ]
  },
  {
   "cell_type": "code",
   "execution_count": 18,
   "metadata": {},
   "outputs": [],
   "source": [
    "#import libraries\n",
    "from selenium import webdriver\n",
    "from selenium.webdriver.common.by import By\n",
    "from selenium.webdriver.common.keys import Keys\n",
    "from selenium.webdriver.support.ui import WebDriverWait\n",
    "from selenium.webdriver.support.expected_conditions import presence_of_element_located\n",
    "from selenium.common.exceptions import NoAlertPresentException\n",
    "import time\n",
    "import string\n",
    "import openpyxl\n",
    "import os\n",
    "from selenium.webdriver.support import expected_conditions as EC\n",
    "import json"
   ]
  },
  {
   "cell_type": "code",
   "execution_count": 28,
   "metadata": {},
   "outputs": [
    {
     "name": "stderr",
     "output_type": "stream",
     "text": [
      "The chromedriver version (122.0.6261.69) detected in PATH at C:\\Driver\\chromedriver.exe might not be compatible with the detected chrome version (123.0.6312.58); currently, chromedriver 123.0.6312.58 is recommended for chrome 123.*, so it is advised to delete the driver in PATH and retry\n"
     ]
    }
   ],
   "source": [
    "#Telecharger  Selenium Webdriver\n",
    "driver = webdriver.Chrome()\n",
    "\n",
    "# Navigate to the desired website\n",
    "driver.get(\"https://www.google.fr/maps/@33.9728781,-6.8672773,15z?entry=ttu\")\n",
    "\n",
    "\n",
    "#Trouver la box de recherche\n",
    "\n",
    "searchbox = driver.find_element(By.ID,'searchboxinput')\n",
    "time.sleep(1)\n",
    "search_object = 'dentiste à RABAT'\n",
    "searchbox.send_keys(search_object)\n",
    "time.sleep(2)\n",
    "searchbox.send_keys(Keys.ENTER)\n",
    "time.sleep(2)\n",
    "\n",
    "\n"
   ]
  },
  {
   "cell_type": "code",
   "execution_count": 29,
   "metadata": {},
   "outputs": [
    {
     "name": "stdout",
     "output_type": "stream",
     "text": [
      "nom introuvable\n",
      "note introuvable\n",
      "nbrNote introuvable\n",
      "adresse introuvable\n",
      "no numero\n",
      "numero introuvable\n",
      "no numero\n",
      "link not found\n",
      "numero introuvable\n",
      "no numero\n",
      "numero introuvable\n",
      "no numero\n",
      "link not found\n",
      "numero introuvable\n",
      "no numero\n",
      "numero introuvable\n",
      "no numero\n",
      "link not found\n",
      "numero introuvable\n",
      "no numero\n",
      "link not found\n",
      "numero introuvable\n",
      "no numero\n",
      "link not found\n",
      "numero introuvable\n",
      "item introuvable\n",
      "nom introuvable\n",
      "note introuvable\n",
      "nbrNote introuvable\n",
      "adresse introuvable\n",
      "no numero\n",
      "link not found\n",
      "numero introuvable\n",
      "item introuvable\n",
      "nom introuvable\n",
      "note introuvable\n",
      "nbrNote introuvable\n",
      "adresse introuvable\n",
      "no numero\n",
      "link not found\n",
      "numero introuvable\n",
      "item introuvable\n",
      "nom introuvable\n",
      "note introuvable\n",
      "nbrNote introuvable\n",
      "adresse introuvable\n",
      "no numero\n",
      "link not found\n",
      "numero introuvable\n"
     ]
    },
    {
     "ename": "ElementClickInterceptedException",
     "evalue": "Message: element click intercepted: Element <span jstcache=\"49\" class=\"bDDiq google-symbols\">...</span> is not clickable at point (44, 36). Other element would receive the click: <img alt=\"Google Maps\" jstcache=\"128\" src=\"//www.google.com/images/branding/lockups/2x/lockup_maps_color_131x24dp.png\" class=\"lmygoc\">\n  (Session info: chrome=123.0.6312.58)\nStacktrace:\n\tGetHandleVerifier [0x00007FF694104C82+3505170]\n\t(No symbol) [0x00007FF693D30852]\n\t(No symbol) [0x00007FF693BE4145]\n\t(No symbol) [0x00007FF693C30C70]\n\t(No symbol) [0x00007FF693C2EA9B]\n\t(No symbol) [0x00007FF693C2C2A4]\n\t(No symbol) [0x00007FF693C2B035]\n\t(No symbol) [0x00007FF693C1F978]\n\t(No symbol) [0x00007FF693C4BE8A]\n\t(No symbol) [0x00007FF693C1F27A]\n\t(No symbol) [0x00007FF693C4C0A0]\n\t(No symbol) [0x00007FF693C683B2]\n\t(No symbol) [0x00007FF693C4BC33]\n\t(No symbol) [0x00007FF693C1D618]\n\t(No symbol) [0x00007FF693C1E6B1]\n\tGetHandleVerifier [0x00007FF6941367DD+3708781]\n\tGetHandleVerifier [0x00007FF69418FC5D+4074477]\n\tGetHandleVerifier [0x00007FF694187DDF+4042095]\n\tGetHandleVerifier [0x00007FF693E5A136+708806]\n\t(No symbol) [0x00007FF693D3CB0F]\n\t(No symbol) [0x00007FF693D37D14]\n\t(No symbol) [0x00007FF693D37E6C]\n\t(No symbol) [0x00007FF693D279A4]\n\tBaseThreadInitThunk [0x00007FFB3C9C257D+29]\n\tRtlUserThreadStart [0x00007FFB3D5CAA58+40]\n",
     "output_type": "error",
     "traceback": [
      "\u001b[1;31m---------------------------------------------------------------------------\u001b[0m",
      "\u001b[1;31mElementClickInterceptedException\u001b[0m          Traceback (most recent call last)",
      "Cell \u001b[1;32mIn[29], line 90\u001b[0m\n\u001b[0;32m     88\u001b[0m time\u001b[38;5;241m.\u001b[39msleep(\u001b[38;5;241m1\u001b[39m)\n\u001b[0;32m     89\u001b[0m button_reto \u001b[38;5;241m=\u001b[39m driver\u001b[38;5;241m.\u001b[39mfind_element(By\u001b[38;5;241m.\u001b[39mXPATH,\u001b[38;5;124m'\u001b[39m\u001b[38;5;124m//*[@id=\u001b[39m\u001b[38;5;124m\"\u001b[39m\u001b[38;5;124momnibox-singlebox\u001b[39m\u001b[38;5;124m\"\u001b[39m\u001b[38;5;124m]/div/div[1]/button/span\u001b[39m\u001b[38;5;124m'\u001b[39m)\n\u001b[1;32m---> 90\u001b[0m \u001b[43mbutton_reto\u001b[49m\u001b[38;5;241;43m.\u001b[39;49m\u001b[43mclick\u001b[49m\u001b[43m(\u001b[49m\u001b[43m)\u001b[49m\n\u001b[0;32m     91\u001b[0m time\u001b[38;5;241m.\u001b[39msleep(\u001b[38;5;241m1\u001b[39m)\n",
      "File \u001b[1;32m~\\AppData\\Roaming\\Python\\Python311\\site-packages\\selenium\\webdriver\\remote\\webelement.py:94\u001b[0m, in \u001b[0;36mWebElement.click\u001b[1;34m(self)\u001b[0m\n\u001b[0;32m     92\u001b[0m \u001b[38;5;28;01mdef\u001b[39;00m \u001b[38;5;21mclick\u001b[39m(\u001b[38;5;28mself\u001b[39m) \u001b[38;5;241m-\u001b[39m\u001b[38;5;241m>\u001b[39m \u001b[38;5;28;01mNone\u001b[39;00m:\n\u001b[0;32m     93\u001b[0m \u001b[38;5;250m    \u001b[39m\u001b[38;5;124;03m\"\"\"Clicks the element.\"\"\"\u001b[39;00m\n\u001b[1;32m---> 94\u001b[0m     \u001b[38;5;28;43mself\u001b[39;49m\u001b[38;5;241;43m.\u001b[39;49m\u001b[43m_execute\u001b[49m\u001b[43m(\u001b[49m\u001b[43mCommand\u001b[49m\u001b[38;5;241;43m.\u001b[39;49m\u001b[43mCLICK_ELEMENT\u001b[49m\u001b[43m)\u001b[49m\n",
      "File \u001b[1;32m~\\AppData\\Roaming\\Python\\Python311\\site-packages\\selenium\\webdriver\\remote\\webelement.py:395\u001b[0m, in \u001b[0;36mWebElement._execute\u001b[1;34m(self, command, params)\u001b[0m\n\u001b[0;32m    393\u001b[0m     params \u001b[38;5;241m=\u001b[39m {}\n\u001b[0;32m    394\u001b[0m params[\u001b[38;5;124m\"\u001b[39m\u001b[38;5;124mid\u001b[39m\u001b[38;5;124m\"\u001b[39m] \u001b[38;5;241m=\u001b[39m \u001b[38;5;28mself\u001b[39m\u001b[38;5;241m.\u001b[39m_id\n\u001b[1;32m--> 395\u001b[0m \u001b[38;5;28;01mreturn\u001b[39;00m \u001b[38;5;28;43mself\u001b[39;49m\u001b[38;5;241;43m.\u001b[39;49m\u001b[43m_parent\u001b[49m\u001b[38;5;241;43m.\u001b[39;49m\u001b[43mexecute\u001b[49m\u001b[43m(\u001b[49m\u001b[43mcommand\u001b[49m\u001b[43m,\u001b[49m\u001b[43m \u001b[49m\u001b[43mparams\u001b[49m\u001b[43m)\u001b[49m\n",
      "File \u001b[1;32m~\\AppData\\Roaming\\Python\\Python311\\site-packages\\selenium\\webdriver\\remote\\webdriver.py:347\u001b[0m, in \u001b[0;36mWebDriver.execute\u001b[1;34m(self, driver_command, params)\u001b[0m\n\u001b[0;32m    345\u001b[0m response \u001b[38;5;241m=\u001b[39m \u001b[38;5;28mself\u001b[39m\u001b[38;5;241m.\u001b[39mcommand_executor\u001b[38;5;241m.\u001b[39mexecute(driver_command, params)\n\u001b[0;32m    346\u001b[0m \u001b[38;5;28;01mif\u001b[39;00m response:\n\u001b[1;32m--> 347\u001b[0m     \u001b[38;5;28;43mself\u001b[39;49m\u001b[38;5;241;43m.\u001b[39;49m\u001b[43merror_handler\u001b[49m\u001b[38;5;241;43m.\u001b[39;49m\u001b[43mcheck_response\u001b[49m\u001b[43m(\u001b[49m\u001b[43mresponse\u001b[49m\u001b[43m)\u001b[49m\n\u001b[0;32m    348\u001b[0m     response[\u001b[38;5;124m\"\u001b[39m\u001b[38;5;124mvalue\u001b[39m\u001b[38;5;124m\"\u001b[39m] \u001b[38;5;241m=\u001b[39m \u001b[38;5;28mself\u001b[39m\u001b[38;5;241m.\u001b[39m_unwrap_value(response\u001b[38;5;241m.\u001b[39mget(\u001b[38;5;124m\"\u001b[39m\u001b[38;5;124mvalue\u001b[39m\u001b[38;5;124m\"\u001b[39m, \u001b[38;5;28;01mNone\u001b[39;00m))\n\u001b[0;32m    349\u001b[0m     \u001b[38;5;28;01mreturn\u001b[39;00m response\n",
      "File \u001b[1;32m~\\AppData\\Roaming\\Python\\Python311\\site-packages\\selenium\\webdriver\\remote\\errorhandler.py:229\u001b[0m, in \u001b[0;36mErrorHandler.check_response\u001b[1;34m(self, response)\u001b[0m\n\u001b[0;32m    227\u001b[0m         alert_text \u001b[38;5;241m=\u001b[39m value[\u001b[38;5;124m\"\u001b[39m\u001b[38;5;124malert\u001b[39m\u001b[38;5;124m\"\u001b[39m]\u001b[38;5;241m.\u001b[39mget(\u001b[38;5;124m\"\u001b[39m\u001b[38;5;124mtext\u001b[39m\u001b[38;5;124m\"\u001b[39m)\n\u001b[0;32m    228\u001b[0m     \u001b[38;5;28;01mraise\u001b[39;00m exception_class(message, screen, stacktrace, alert_text)  \u001b[38;5;66;03m# type: ignore[call-arg]  # mypy is not smart enough here\u001b[39;00m\n\u001b[1;32m--> 229\u001b[0m \u001b[38;5;28;01mraise\u001b[39;00m exception_class(message, screen, stacktrace)\n",
      "\u001b[1;31mElementClickInterceptedException\u001b[0m: Message: element click intercepted: Element <span jstcache=\"49\" class=\"bDDiq google-symbols\">...</span> is not clickable at point (44, 36). Other element would receive the click: <img alt=\"Google Maps\" jstcache=\"128\" src=\"//www.google.com/images/branding/lockups/2x/lockup_maps_color_131x24dp.png\" class=\"lmygoc\">\n  (Session info: chrome=123.0.6312.58)\nStacktrace:\n\tGetHandleVerifier [0x00007FF694104C82+3505170]\n\t(No symbol) [0x00007FF693D30852]\n\t(No symbol) [0x00007FF693BE4145]\n\t(No symbol) [0x00007FF693C30C70]\n\t(No symbol) [0x00007FF693C2EA9B]\n\t(No symbol) [0x00007FF693C2C2A4]\n\t(No symbol) [0x00007FF693C2B035]\n\t(No symbol) [0x00007FF693C1F978]\n\t(No symbol) [0x00007FF693C4BE8A]\n\t(No symbol) [0x00007FF693C1F27A]\n\t(No symbol) [0x00007FF693C4C0A0]\n\t(No symbol) [0x00007FF693C683B2]\n\t(No symbol) [0x00007FF693C4BC33]\n\t(No symbol) [0x00007FF693C1D618]\n\t(No symbol) [0x00007FF693C1E6B1]\n\tGetHandleVerifier [0x00007FF6941367DD+3708781]\n\tGetHandleVerifier [0x00007FF69418FC5D+4074477]\n\tGetHandleVerifier [0x00007FF694187DDF+4042095]\n\tGetHandleVerifier [0x00007FF693E5A136+708806]\n\t(No symbol) [0x00007FF693D3CB0F]\n\t(No symbol) [0x00007FF693D37D14]\n\t(No symbol) [0x00007FF693D37E6C]\n\t(No symbol) [0x00007FF693D279A4]\n\tBaseThreadInitThunk [0x00007FFB3C9C257D+29]\n\tRtlUserThreadStart [0x00007FFB3D5CAA58+40]\n"
     ]
    }
   ],
   "source": [
    "names = []\n",
    "notes = []\n",
    "nbrNotes = []\n",
    "address = []\n",
    "xpaths =[]\n",
    "numbers = []\n",
    "#links = []\n",
    "#fermeture = []\n",
    "for i in range(3,65,2):\n",
    "            \n",
    "    url = '//*[@id=\"QA0Szd\"]/div/div/div[1]/div[2]/div/div[1]/div/div/div[1]/div[1]/div[{}]/div/a'.format(i)\n",
    "    xpaths.append(url)\n",
    "    \n",
    "    try:\n",
    "        recherche_medecin = driver.find_element(By.XPATH,url)        \n",
    "        recherche_medecin.click()\n",
    "        time.sleep(1)\n",
    "    except Exception as e:\n",
    "        print('item introuvable')    \n",
    "\n",
    "    \n",
    "    \n",
    "    try:    \n",
    "        name = driver.find_element(By.XPATH,'//*[@id=\"QA0Szd\"]/div/div/div[1]/div[2]/div/div[1]/div/div/div[2]/div/div[1]/div[1]/h1').text\n",
    "        names.append(name)\n",
    "    except Exception as e :\n",
    "        print('nom introuvable')\n",
    "\n",
    "    \n",
    "    \n",
    "    try:\n",
    "        note = driver.find_element(By.XPATH,'//*[@id=\"QA0Szd\"]/div/div/div[1]/div[2]/div/div[1]/div/div/div[2]/div/div[1]/div[2]/div/div[1]/div[2]/span[1]/span[1]').text\n",
    "        notes.append(note)\n",
    "    except Exception as e:\n",
    "        print('note introuvable')    \n",
    "    \n",
    "    \n",
    "    try:    \n",
    "        nbrNote = driver.find_element(By.XPATH,'//*[@id=\"QA0Szd\"]/div/div/div[1]/div[2]/div/div[1]/div/div/div[2]/div/div[1]/div[2]/div/div[1]/div[2]/span[2]/span/span').text\n",
    "        nbrNotes.append(nbrNote)\n",
    "        \n",
    "    except Exception as e:\n",
    "        print('nbrNote introuvable')\n",
    "\n",
    "    \n",
    "    \n",
    "    try:\n",
    "        addres = driver.find_element(By.XPATH,'//*[@id=\"QA0Szd\"]/div/div/div[1]/div[2]/div/div[1]/div/div/div[7]/div[3]/button/div/div[2]/div[1]').text\n",
    "        address.append(addres)\n",
    "    except Exception as e:\n",
    "        print('adresse introuvable')\n",
    "\n",
    "    '''try:\n",
    "        fermer = driver.fid_element(By.XAPTH,'//*[@id=\"QA0Szd\"]/div/div/div[1]/div[2]/div/div[1]/div/div/div[7]/div[4]/div[1]/div[2]/div/span[1]/span/span[2]').text\n",
    "        fermeture.append(fermer)\n",
    "    except Exception as e:\n",
    "        print(\"erreur element introuvable\")\n",
    "        fermeture.append(None)\n",
    "    time.sleep(1)\n",
    "    '''\n",
    "    \n",
    "    \n",
    "    try:\n",
    "        response = requests.get(url)\n",
    "        soup = BeautifulSoup(response.content,'lxml')\n",
    "        num =  soup.find('div', class_='Io6YTe fontBodyMedium kR99db ')\n",
    "        '''num2= num.find('div', class_='Io6YTe fontBodyMedium kR99db ')\n",
    "        numbers.append(num2)'''\n",
    "        print(num)\n",
    "    except Exception as e:\n",
    "        print('no numero')    \n",
    "\n",
    "    \n",
    "    try : \n",
    "        link =driver.find_element(By.CSS_SELECTOR,'#QA0Szd > div > div > div.w6VYqd > div.bJzME.tTVLSc > div > div.e07Vkf.kA9KIf > div > div > div:nth-child(7) > div:nth-child(5) > a > div > div.rogA2c.ITvuef > div.Io6YTe.fontBodyMedium.kR99db')\n",
    "    except Exception as e:\n",
    "        print('link not found')\n",
    "    \n",
    "\n",
    "    try:\n",
    "        number = driver.find_elements(By.XPATH,'//*[@id=\"QA0Szd\"]/div/div/div[1]/div[2]/div/div[1]/div/div/div[7]/div[7]/button/div/div[2]/div[1]').text\n",
    "        numbers.append(number)\n",
    "    except Exception as e:\n",
    "        print('numero introuvable')\n",
    "    \n",
    "    \n",
    "   \n",
    "    time.sleep(1)\n",
    "    button_reto = driver.find_element(By.XPATH,'//*[@id=\"omnibox-singlebox\"]/div/div[1]/button/span')\n",
    "    button_reto.click()\n",
    "    time.sleep(1)"
   ]
  },
  {
   "cell_type": "code",
   "execution_count": 30,
   "metadata": {},
   "outputs": [],
   "source": [
    "driver.quit()"
   ]
  },
  {
   "cell_type": "code",
   "execution_count": 45,
   "metadata": {},
   "outputs": [],
   "source": [
    "import re\n",
    "def sans_parentheses(liste):    \n",
    "    for i in range(len(liste)):        \n",
    "        elemo = re.sub(r'\\(|\\)' ,'',liste[i])\n",
    "        liste[i] = elemo\n",
    "    return liste\n",
    "        "
   ]
  },
  {
   "cell_type": "code",
   "execution_count": 36,
   "metadata": {},
   "outputs": [
    {
     "data": {
      "text/plain": [
       "['(21)', '(114)', '(86)', '(1)', '(23)', '(19)', '(5)']"
      ]
     },
     "execution_count": 36,
     "metadata": {},
     "output_type": "execute_result"
    }
   ],
   "source": [
    "nbrNotes"
   ]
  },
  {
   "cell_type": "code",
   "execution_count": 59,
   "metadata": {},
   "outputs": [],
   "source": [
    "def Noms_Netoyés(liste):\n",
    "    nouvelle_liste = []\n",
    "    for element in liste:\n",
    "        element_nettoye = re.sub(r'[\\(\\-].*', '', element)\n",
    "        nouvelle_liste.append(element_nettoye)\n",
    "    return nouvelle_liste"
   ]
  },
  {
   "cell_type": "code",
   "execution_count": 89,
   "metadata": {},
   "outputs": [
    {
     "data": {
      "text/plain": [
       "'namess = []\\nurl = \\'//*[@id=\"QA0Szd\"]/div/div/div[1]/div[2]/div/div[1]/div/div/div[1]/div[1]/div[{}]/div/a\\'.format(11)\\nrecherche_medecin = driver.find_element(By.XPATH,url)\\nrecherche_medecin.click()\\ntime.sleep(2)\\nname = driver.find_element(By.XPATH,\\'//*[@id=\"QA0Szd\"]/div/div/div[1]/div[2]/div/div[1]/div/div/div[2]/div/div[1]/div[1]/h1\\')\\nnamess.append(name.text)\\nnumber = driver.find_element(By.XPATH,\\'//*[@id=\"QA0Szd\"]/div/div/div[1]/div[2]/div/div[1]/div/div/div[7]/div[6]/button/div/div[2]/div[1]\\').text\\n\\nbutton_reto = driver.find_element(By.XPATH,\\'//*[@id=\"omnibox-singlebox\"]/div/div[1]/button/span\\')\\nbutton_reto.click()'"
      ]
     },
     "execution_count": 89,
     "metadata": {},
     "output_type": "execute_result"
    }
   ],
   "source": [
    "\"\"\"namess = []\n",
    "url = '//*[@id=\"QA0Szd\"]/div/div/div[1]/div[2]/div/div[1]/div/div/div[1]/div[1]/div[{}]/div/a'.format(11)\n",
    "recherche_medecin = driver.find_element(By.XPATH,url)\n",
    "recherche_medecin.click()\n",
    "time.sleep(2)\n",
    "name = driver.find_element(By.XPATH,'//*[@id=\"QA0Szd\"]/div/div/div[1]/div[2]/div/div[1]/div/div/div[2]/div/div[1]/div[1]/h1')\n",
    "namess.append(name.text)\n",
    "number = driver.find_element(By.XPATH,'//*[@id=\"QA0Szd\"]/div/div/div[1]/div[2]/div/div[1]/div/div/div[7]/div[6]/button/div/div[2]/div[1]').text\n",
    "\n",
    "button_reto = driver.find_element(By.XPATH,'//*[@id=\"omnibox-singlebox\"]/div/div[1]/button/span')\n",
    "button_reto.click()\"\"\""
   ]
  },
  {
   "cell_type": "code",
   "execution_count": 46,
   "metadata": {},
   "outputs": [],
   "source": [
    "nbrNotes = sans_parentheses(nbrNotes)"
   ]
  },
  {
   "cell_type": "code",
   "execution_count": null,
   "metadata": {},
   "outputs": [
    {
     "name": "stdout",
     "output_type": "stream",
     "text": [
      "erreur element introuvable\n"
     ]
    }
   ],
   "source": [
    "'''fermeture = []\n",
    "for i in range(5,10,2):\n",
    "    url = '//*[@id=\"QA0Szd\"]/div/div/div[1]/div[2]/div/div[1]/div/div/div[1]/div[1]/div[{}]/div/a'.format(i)\n",
    "    recherche_medecin = driver.find_element(By.XPATH,url)\n",
    "    recherche_medecin.click()\n",
    "    time.sleep(1)\n",
    "    try:\n",
    "        ferme = driver.find_element(By.XPATH,'//*[@id=\"QA0Szd\"]/div/div/div[1]/div[2]/div/div[1]/div/div/div[7]/div[4]/div[1]/div[2]/div/span[1]/span/span[2]').text\n",
    "        fermeture.append(ferme)\n",
    "    except Exception as e :\n",
    "        print(\"erreur element introuvable\")\n",
    "        fermeture.append(None)\n",
    "    button_reto = driver.find_element(By.XPATH,'//*[@id=\"omnibox-singlebox\"]/div/div[1]/button/span')\n",
    "    button_reto.click()\n",
    "    time.sleep(1)'''"
   ]
  },
  {
   "cell_type": "code",
   "execution_count": null,
   "metadata": {},
   "outputs": [],
   "source": [
    "nom = 'JsonTest'\n",
    "with open(nom,'w') as f:\n",
    "    json.dump(data,f)"
   ]
  },
  {
   "cell_type": "code",
   "execution_count": null,
   "metadata": {},
   "outputs": [
    {
     "name": "stdout",
     "output_type": "stream",
     "text": [
      "<class 'dict'>\n",
      "{'evaluation': ['4,7', '3,7', '5,0', '4,8'],\n",
      " 'naames': ['Centre Dentaire Lahyani - (dentiste Rabat)',\n",
      "            'Chirurgien Dentiste rabat',\n",
      "            'Cabinet Dentaire BELGHITI- Dr BELGHITI Yousra',\n",
      "            'Perfect Smile Center (Dr Kawtar Attouzalti)']}\n"
     ]
    }
   ],
   "source": [
    "import pprint\n",
    "with open(nom,'r') as f:\n",
    "    dota = json.load(f)\n",
    "    print(type(data))\n",
    "    pprint.pprint(data)"
   ]
  },
  {
   "cell_type": "code",
   "execution_count": 68,
   "metadata": {},
   "outputs": [],
   "source": [
    "dictio = {'Noms':test, 'Adresse' : address , 'Reviews':notes, 'Reviews_nbrs':nbrNotes}"
   ]
  },
  {
   "cell_type": "code",
   "execution_count": 69,
   "metadata": {},
   "outputs": [],
   "source": [
    "data = pd.DataFrame(dictio)"
   ]
  },
  {
   "cell_type": "code",
   "execution_count": 70,
   "metadata": {},
   "outputs": [
    {
     "data": {
      "text/html": [
       "<div>\n",
       "<style scoped>\n",
       "    .dataframe tbody tr th:only-of-type {\n",
       "        vertical-align: middle;\n",
       "    }\n",
       "\n",
       "    .dataframe tbody tr th {\n",
       "        vertical-align: top;\n",
       "    }\n",
       "\n",
       "    .dataframe thead th {\n",
       "        text-align: right;\n",
       "    }\n",
       "</style>\n",
       "<table border=\"1\" class=\"dataframe\">\n",
       "  <thead>\n",
       "    <tr style=\"text-align: right;\">\n",
       "      <th></th>\n",
       "      <th>Noms</th>\n",
       "      <th>Adresse</th>\n",
       "      <th>Reviews</th>\n",
       "      <th>Reviews_nbrs</th>\n",
       "    </tr>\n",
       "  </thead>\n",
       "  <tbody>\n",
       "    <tr>\n",
       "      <th>0</th>\n",
       "      <td>Amrharhe Abdellatif</td>\n",
       "      <td>Avenue Al Massira (C.Y.M), Amal 1, J5 , N°728 ...</td>\n",
       "      <td>4,5</td>\n",
       "      <td>22</td>\n",
       "    </tr>\n",
       "    <tr>\n",
       "      <th>1</th>\n",
       "      <td>El Yaagoubi Hind</td>\n",
       "      <td>Appt. N° 2, 10100 Résid. Camélia 1, Rue Joulla...</td>\n",
       "      <td>4,4</td>\n",
       "      <td>20</td>\n",
       "    </tr>\n",
       "    <tr>\n",
       "      <th>2</th>\n",
       "      <td>Mahaj Clinique Dentaire</td>\n",
       "      <td>Rue Al Ijjass, Rabat 10100</td>\n",
       "      <td>4,3</td>\n",
       "      <td>114</td>\n",
       "    </tr>\n",
       "    <tr>\n",
       "      <th>3</th>\n",
       "      <td>Centre Dentaire Spécialisé Dr Yasser Boukhal</td>\n",
       "      <td>1er Étage , 569, Hay Al Massira, Amal 5, C.Y.M...</td>\n",
       "      <td>4,7</td>\n",
       "      <td>86</td>\n",
       "    </tr>\n",
       "    <tr>\n",
       "      <th>4</th>\n",
       "      <td>Cabinet Dentaire Docteur Aalloula El Houssaine</td>\n",
       "      <td>Hay Ryad, Rue Al Ijjass Sect. 10 N°1, Rabat</td>\n",
       "      <td>5,0</td>\n",
       "      <td>1</td>\n",
       "    </tr>\n",
       "  </tbody>\n",
       "</table>\n",
       "</div>"
      ],
      "text/plain": [
       "                                              Noms  \\\n",
       "0                             Amrharhe Abdellatif    \n",
       "1                                El Yaagoubi Hind    \n",
       "2                          Mahaj Clinique Dentaire   \n",
       "3    Centre Dentaire Spécialisé Dr Yasser Boukhal    \n",
       "4  Cabinet Dentaire Docteur Aalloula El Houssaine    \n",
       "\n",
       "                                             Adresse Reviews Reviews_nbrs  \n",
       "0  Avenue Al Massira (C.Y.M), Amal 1, J5 , N°728 ...     4,5           22  \n",
       "1  Appt. N° 2, 10100 Résid. Camélia 1, Rue Joulla...     4,4           20  \n",
       "2                         Rue Al Ijjass, Rabat 10100     4,3          114  \n",
       "3  1er Étage , 569, Hay Al Massira, Amal 5, C.Y.M...     4,7           86  \n",
       "4        Hay Ryad, Rue Al Ijjass Sect. 10 N°1, Rabat     5,0            1  "
      ]
     },
     "execution_count": 70,
     "metadata": {},
     "output_type": "execute_result"
    }
   ],
   "source": [
    "data.head()"
   ]
  },
  {
   "cell_type": "code",
   "execution_count": 73,
   "metadata": {},
   "outputs": [],
   "source": [
    "data.to_csv('data_Maps')"
   ]
  },
  {
   "cell_type": "code",
   "execution_count": null,
   "metadata": {},
   "outputs": [],
   "source": []
  }
 ],
 "metadata": {
  "kernelspec": {
   "display_name": "Python 3",
   "language": "python",
   "name": "python3"
  },
  "language_info": {
   "codemirror_mode": {
    "name": "ipython",
    "version": 3
   },
   "file_extension": ".py",
   "mimetype": "text/x-python",
   "name": "python",
   "nbconvert_exporter": "python",
   "pygments_lexer": "ipython3",
   "version": "3.11.5"
  }
 },
 "nbformat": 4,
 "nbformat_minor": 2
}
